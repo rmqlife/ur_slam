{
 "cells": [
  {
   "cell_type": "markdown",
   "metadata": {},
   "source": [
    "# LightGlue Demo\n",
    "In this notebook we match two pairs of images using LightGlue with early stopping and point pruning."
   ]
  },
  {
   "cell_type": "code",
   "execution_count": 1,
   "metadata": {},
   "outputs": [
    {
     "name": "stderr",
     "output_type": "stream",
     "text": [
      "/home/rmqlife/miniconda3/lib/python3.11/site-packages/torchvision/io/image.py:13: UserWarning: Failed to load image Python extension: '/home/rmqlife/miniconda3/lib/python3.11/site-packages/torchvision/image.so: undefined symbol: _ZN3c1017RegisterOperatorsD1Ev'If you don't plan on using image functionality from `torchvision.io`, you can ignore this warning. Otherwise, there might be something wrong with your environment. Did you have `libjpeg` or `libpng` installed before building `torchvision` from source?\n",
      "  warn(\n"
     ]
    }
   ],
   "source": [
    "import sys\n",
    "sys.path.insert(0,'/home/rmqlife/work/LightGlue')\n",
    "\n",
    "from lightglue import LightGlue, SuperPoint, DISK\n",
    "from lightglue.utils import load_image, rbd\n",
    "from lightglue import viz2d\n",
    "import torch\n",
    "\n",
    "torch.set_grad_enabled(False)\n",
    "\n",
    "\n",
    "device = torch.device(\"cuda\" if torch.cuda.is_available() else \"cpu\")  # 'mps', 'cpu'\n",
    "\n",
    "extractor = SuperPoint(max_num_keypoints=2048).eval().to(device)  # load the extractor\n",
    "matcher = LightGlue(features=\"superpoint\", filter_threshold=0.9).eval().to(device)"
   ]
  },
  {
   "cell_type": "markdown",
   "metadata": {},
   "source": [
    "## Easy example\n",
    "The top image shows the matches, while the bottom image shows the point pruning across layers. In this case, LightGlue prunes a few points with occlusions, but is able to stop the context aggregation after 4/9 layers."
   ]
  },
  {
   "cell_type": "code",
   "execution_count": 2,
   "metadata": {},
   "outputs": [
    {
     "ename": "FileNotFoundError",
     "evalue": "No image at path images-20240611-194515/rgb_26.png.",
     "output_type": "error",
     "traceback": [
      "\u001b[0;31m---------------------------------------------------------------------------\u001b[0m",
      "\u001b[0;31mFileNotFoundError\u001b[0m                         Traceback (most recent call last)",
      "Cell \u001b[0;32mIn[2], line 86\u001b[0m\n\u001b[1;32m     83\u001b[0m image_path2 \u001b[38;5;241m=\u001b[39m \u001b[38;5;124mf\u001b[39m\u001b[38;5;124m\"\u001b[39m\u001b[38;5;124mimages-20240611-194515/rgb_\u001b[39m\u001b[38;5;132;01m{\u001b[39;00mid2\u001b[38;5;132;01m}\u001b[39;00m\u001b[38;5;124m.png\u001b[39m\u001b[38;5;124m\"\u001b[39m\n\u001b[1;32m     84\u001b[0m traj_path \u001b[38;5;241m=\u001b[39m \u001b[38;5;124mf\u001b[39m\u001b[38;5;124m\"\u001b[39m\u001b[38;5;124mimages-20240611-194515/traj.npy\u001b[39m\u001b[38;5;124m\"\u001b[39m\n\u001b[0;32m---> 86\u001b[0m image0 \u001b[38;5;241m=\u001b[39m \u001b[43mload_image\u001b[49m\u001b[43m(\u001b[49m\u001b[43mimage_path1\u001b[49m\u001b[43m)\u001b[49m\n\u001b[1;32m     87\u001b[0m image1 \u001b[38;5;241m=\u001b[39m load_image(image_path2)\n\u001b[1;32m     89\u001b[0m pts0, pts1 \u001b[38;5;241m=\u001b[39m match_with_lightglue(image0, image1)\n",
      "File \u001b[0;32m~/work/LightGlue/lightglue/utils.py:125\u001b[0m, in \u001b[0;36mload_image\u001b[0;34m(path, resize, **kwargs)\u001b[0m\n\u001b[1;32m    124\u001b[0m \u001b[38;5;28;01mdef\u001b[39;00m \u001b[38;5;21mload_image\u001b[39m(path: Path, resize: \u001b[38;5;28mint\u001b[39m \u001b[38;5;241m=\u001b[39m \u001b[38;5;28;01mNone\u001b[39;00m, \u001b[38;5;241m*\u001b[39m\u001b[38;5;241m*\u001b[39mkwargs) \u001b[38;5;241m-\u001b[39m\u001b[38;5;241m>\u001b[39m torch\u001b[38;5;241m.\u001b[39mTensor:\n\u001b[0;32m--> 125\u001b[0m     image \u001b[38;5;241m=\u001b[39m \u001b[43mread_image\u001b[49m\u001b[43m(\u001b[49m\u001b[43mpath\u001b[49m\u001b[43m)\u001b[49m\n\u001b[1;32m    126\u001b[0m     \u001b[38;5;28;01mif\u001b[39;00m resize \u001b[38;5;129;01mis\u001b[39;00m \u001b[38;5;129;01mnot\u001b[39;00m \u001b[38;5;28;01mNone\u001b[39;00m:\n\u001b[1;32m    127\u001b[0m         image, _ \u001b[38;5;241m=\u001b[39m resize_image(image, resize, \u001b[38;5;241m*\u001b[39m\u001b[38;5;241m*\u001b[39mkwargs)\n",
      "File \u001b[0;32m~/work/LightGlue/lightglue/utils.py:75\u001b[0m, in \u001b[0;36mread_image\u001b[0;34m(path, grayscale)\u001b[0m\n\u001b[1;32m     73\u001b[0m \u001b[38;5;250m\u001b[39m\u001b[38;5;124;03m\"\"\"Read an image from path as RGB or grayscale\"\"\"\u001b[39;00m\n\u001b[1;32m     74\u001b[0m \u001b[38;5;28;01mif\u001b[39;00m \u001b[38;5;129;01mnot\u001b[39;00m Path(path)\u001b[38;5;241m.\u001b[39mexists():\n\u001b[0;32m---> 75\u001b[0m     \u001b[38;5;28;01mraise\u001b[39;00m \u001b[38;5;167;01mFileNotFoundError\u001b[39;00m(\u001b[38;5;124mf\u001b[39m\u001b[38;5;124m\"\u001b[39m\u001b[38;5;124mNo image at path \u001b[39m\u001b[38;5;132;01m{\u001b[39;00mpath\u001b[38;5;132;01m}\u001b[39;00m\u001b[38;5;124m.\u001b[39m\u001b[38;5;124m\"\u001b[39m)\n\u001b[1;32m     76\u001b[0m mode \u001b[38;5;241m=\u001b[39m cv2\u001b[38;5;241m.\u001b[39mIMREAD_GRAYSCALE \u001b[38;5;28;01mif\u001b[39;00m grayscale \u001b[38;5;28;01melse\u001b[39;00m cv2\u001b[38;5;241m.\u001b[39mIMREAD_COLOR\n\u001b[1;32m     77\u001b[0m image \u001b[38;5;241m=\u001b[39m cv2\u001b[38;5;241m.\u001b[39mimread(\u001b[38;5;28mstr\u001b[39m(path), mode)\n",
      "\u001b[0;31mFileNotFoundError\u001b[0m: No image at path images-20240611-194515/rgb_26.png."
     ]
    }
   ],
   "source": [
    "\n",
    "import json\n",
    "import cv2\n",
    "import numpy as np\n",
    "import math\n",
    "import matplotlib.pyplot as plt\n",
    "import os\n",
    "\n",
    "def replace_path(file_path, src, dst):\n",
    "    directory, filename = os.path.split(file_path)  \n",
    "    new_filename = filename.replace(src, dst)\n",
    "    \n",
    "    return os.path.join(directory, new_filename)\n",
    "    \n",
    "def replace_rgb_to_depth(file_path):\n",
    "    return replace_path(file_path, 'rgb', 'depth')\n",
    "\n",
    "\n",
    "# Factory function to create a pointcloud from an RGB-D image and a camera. Given depth value d at (u, v) image coordinate, the corresponding 3d point is:\n",
    "\n",
    "# z = d / depth_scale\n",
    "# x = (u - cx) * z / fx\n",
    "# y = (v - cy) * z / fy\n",
    "def project_to_3d(points, depth, intrinsics, show=True):\n",
    "    if show:\n",
    "        plt.imshow(depth)\n",
    "    \n",
    "    points_3d = list()\n",
    "    \n",
    "    for x,y in points:\n",
    "        x = math.floor(x) \n",
    "        y = math.floor(y)\n",
    "        d = depth[y][x]        \n",
    "        # Plot points (x, y) on the image\n",
    "        if show:\n",
    "            if d>0:\n",
    "                plt.scatter(x, y, color='blue', s=10)  # Adjust the size (s) as needed\n",
    "            else:\n",
    "                plt.scatter(x, y, color='red', s=10)\n",
    "\n",
    "        # 3d point in meter\n",
    "        z = d / 1000\n",
    "        x = (x - intrinsics['cx']) * z / intrinsics['fx'] \n",
    "        y = (y - intrinsics['cy']) * z / intrinsics['fy'] \n",
    "        \n",
    "        if show:\n",
    "            print(f'x:{x} \\t y:{y} \\t z:{z}')\n",
    "        points_3d.append((x,y,z))\n",
    "        \n",
    "    if show:\n",
    "        plt.axis('off')  # Turn off axis labels\n",
    "        plt.show()\n",
    "    \n",
    "    \n",
    "    return points_3d\n",
    "    \n",
    "def load_intrinsics(json_file):\n",
    "    with open(json_file, \"r\") as file:\n",
    "        intrinsic_params = json.load(file)\n",
    "    return intrinsic_params\n",
    "\n",
    "\n",
    "def plot_matching(image0, image1, pts0, pts1):\n",
    "    axes = viz2d.plot_images([image0, image1])\n",
    "    viz2d.plot_matches(pts0, pts1, color=\"lime\", lw=0.2)\n",
    "    \n",
    "def match_with_lightglue(image0, image1):\n",
    "    feats0 = extractor.extract(image0.to(device))\n",
    "    feats1 = extractor.extract(image1.to(device))\n",
    "    matches01 = matcher({\"image0\": feats0, \"image1\": feats1})\n",
    "    feats0, feats1, matches01 = [\n",
    "        rbd(x) for x in [feats0, feats1, matches01]\n",
    "    ]  # remove batch dimension\n",
    "\n",
    "    kpts0, kpts1, matches = feats0[\"keypoints\"], feats1[\"keypoints\"], matches01[\"matches\"]\n",
    "    m_kpts0, m_kpts1 = kpts0[matches[..., 0]], kpts1[matches[..., 1]]\n",
    "    return m_kpts0, m_kpts1\n",
    "\n",
    "\n",
    "id1=26\n",
    "id2=19\n",
    "\n",
    "image_path1 = f\"images-20240611-194515/rgb_{id1}.png\"\n",
    "image_path2 = f\"images-20240611-194515/rgb_{id2}.png\"\n",
    "traj_path = f\"images-20240611-194515/traj.npy\"\n",
    "\n",
    "image0 = load_image(image_path1)\n",
    "image1 = load_image(image_path2)\n",
    "\n",
    "pts0, pts1 = match_with_lightglue(image0, image1)\n",
    "plot_matching(image0, image1, pts0, pts1)\n",
    "plt.show()\n",
    "print(pts0.shape)\n",
    "\n",
    "# Example usage:\n",
    "intrinsics = load_intrinsics(\"intrinsic_parameters.json\")\n",
    "print(intrinsics)\n",
    "\n",
    "depth_path1 = replace_rgb_to_depth(image_path1)\n",
    "depth_path2 = replace_rgb_to_depth(image_path2)\n",
    "\n",
    "rgb1 = cv2.imread(image_path1)\n",
    "depth1 = cv2.imread(depth_path1, cv2.IMREAD_UNCHANGED)\n",
    "\n",
    "rgb2 = cv2.imread(image_path2)\n",
    "depth2 = cv2.imread(depth_path2, cv2.IMREAD_UNCHANGED)\n",
    "\n",
    "print(depth2.shape)\n",
    "image_size = depth2.shape\n",
    "\n",
    "pt3d1 = project_to_3d(pts0[:], depth1, intrinsics)\n",
    "pt3d2 = project_to_3d(pts1[:], depth2, intrinsics)\n",
    "\n",
    "print(pt3d1)\n",
    "print(pt3d2)\n"
   ]
  },
  {
   "cell_type": "code",
   "execution_count": 5,
   "metadata": {},
   "outputs": [
    {
     "name": "stderr",
     "output_type": "stream",
     "text": [
      "[ WARN:0@84.298] global /io/opencv/modules/imgcodecs/src/loadsave.cpp (239) findDecoder imread_('images-20240611-201439/rgb_26.png'): can't open/read file: check file path/integrity\n",
      "[ WARN:0@84.298] global /io/opencv/modules/imgcodecs/src/loadsave.cpp (239) findDecoder imread_('images-20240611-201439/rgb_19.png'): can't open/read file: check file path/integrity\n"
     ]
    },
    {
     "ename": "TypeError",
     "evalue": "MyGlue.match_with_lightglue() missing 1 required positional argument: 'verbose'",
     "output_type": "error",
     "traceback": [
      "\u001b[0;31m---------------------------------------------------------------------------\u001b[0m",
      "\u001b[0;31mTypeError\u001b[0m                                 Traceback (most recent call last)",
      "Cell \u001b[0;32mIn[5], line 17\u001b[0m\n\u001b[1;32m     14\u001b[0m rgb1 \u001b[38;5;241m=\u001b[39m cv2\u001b[38;5;241m.\u001b[39mimread(image_path1)\n\u001b[1;32m     15\u001b[0m rgb2 \u001b[38;5;241m=\u001b[39m cv2\u001b[38;5;241m.\u001b[39mimread(image_path2)\n\u001b[0;32m---> 17\u001b[0m pts0, pts1 \u001b[38;5;241m=\u001b[39m \u001b[43mglue\u001b[49m\u001b[38;5;241;43m.\u001b[39;49m\u001b[43mmatch_with_lightglue\u001b[49m\u001b[43m(\u001b[49m\u001b[43mrgb1\u001b[49m\u001b[43m,\u001b[49m\u001b[43m \u001b[49m\u001b[43mrgb2\u001b[49m\u001b[43m)\u001b[49m\n",
      "\u001b[0;31mTypeError\u001b[0m: MyGlue.match_with_lightglue() missing 1 required positional argument: 'verbose'"
     ]
    }
   ],
   "source": [
    "\n",
    "import cv2\n",
    "import numpy as np\n",
    "from lightglue_util import MyGlue, replace_rgb_to_depth, load_intrinsics, print_array\n",
    "glue = MyGlue('LightGlue')\n",
    "\n",
    "id1=26\n",
    "id2=19\n",
    "\n",
    "home = 'images-20240611-201439'\n",
    "\n",
    "image_path1 = f\"{home}/rgb_{id1}.png\"\n",
    "image_path2 = f\"{home}/rgb_{id2}.png\"\n",
    "traj_path = f\"{home}/traj.npy\"\n",
    "rgb1 = cv2.imread(image_path1)\n",
    "rgb2 = cv2.imread(image_path2)\n",
    "\n",
    "pts0, pts1 = glue.match_with_lightglue(rgb1, rgb2)"
   ]
  },
  {
   "cell_type": "code",
   "execution_count": 9,
   "metadata": {},
   "outputs": [
    {
     "name": "stdout",
     "output_type": "stream",
     "text": [
      "[435  30]\n"
     ]
    },
    {
     "ename": "NameError",
     "evalue": "name 'plot_matching' is not defined",
     "output_type": "error",
     "traceback": [
      "\u001b[0;31m---------------------------------------------------------------------------\u001b[0m",
      "\u001b[0;31mNameError\u001b[0m                                 Traceback (most recent call last)",
      "Cell \u001b[0;32mIn[9], line 6\u001b[0m\n\u001b[1;32m      3\u001b[0m pts1 \u001b[38;5;241m=\u001b[39m np\u001b[38;5;241m.\u001b[39marray(pts1)\n\u001b[1;32m      5\u001b[0m \u001b[38;5;66;03m# img_matches = cv2.drawMatches(rgb1, pts0, rgb2, pts1, None, None, flags=cv2.DrawMatchesFlags_NOT_DRAW_SINGLE_POINTS)\u001b[39;00m\n\u001b[0;32m----> 6\u001b[0m \u001b[43mplot_matching\u001b[49m(image0, image1, pts0, pts1)\n",
      "\u001b[0;31mNameError\u001b[0m: name 'plot_matching' is not defined"
     ]
    }
   ],
   "source": [
    "print(pts1[0])\n",
    "pts0 = np.array(pts0)\n",
    "pts1 = np.array(pts1)\n",
    "\n",
    "# img_matches = cv2.drawMatches(rgb1, pts0, rgb2, pts1, None, None, flags=cv2.DrawMatchesFlags_NOT_DRAW_SINGLE_POINTS)\n",
    "\n",
    "plot_matching(image0, image1, pts0, pts1)\n"
   ]
  }
 ],
 "metadata": {
  "kernelspec": {
   "display_name": "Python 3 (ipykernel)",
   "language": "python",
   "name": "python3"
  },
  "language_info": {
   "codemirror_mode": {
    "name": "ipython",
    "version": 3
   },
   "file_extension": ".py",
   "mimetype": "text/x-python",
   "name": "python",
   "nbconvert_exporter": "python",
   "pygments_lexer": "ipython3",
   "version": "3.11.6"
  }
 },
 "nbformat": 4,
 "nbformat_minor": 4
}
